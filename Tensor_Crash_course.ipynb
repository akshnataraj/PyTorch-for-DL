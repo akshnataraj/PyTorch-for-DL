{
  "nbformat": 4,
  "nbformat_minor": 0,
  "metadata": {
    "colab": {
      "name": "Tensor Crash course.ipynb",
      "provenance": [],
      "collapsed_sections": [],
      "authorship_tag": "ABX9TyN8S7K2zXWS/JusoiYuYbkI",
      "include_colab_link": true
    },
    "kernelspec": {
      "name": "python3",
      "display_name": "Python 3"
    }
  },
  "cells": [
    {
      "cell_type": "markdown",
      "metadata": {
        "id": "view-in-github",
        "colab_type": "text"
      },
      "source": [
        "<a href=\"https://colab.research.google.com/github/akshnataraj/PyTorch-for-DL/blob/master/Tensor_Crash_course.ipynb\" target=\"_parent\"><img src=\"https://colab.research.google.com/assets/colab-badge.svg\" alt=\"Open In Colab\"/></a>"
      ]
    },
    {
      "cell_type": "code",
      "metadata": {
        "id": "yfsp2w8ZFtAr",
        "colab_type": "code",
        "colab": {
          "base_uri": "https://localhost:8080/",
          "height": 69
        },
        "outputId": "4cf7cacf-4dff-4a48-f105-6da3b653e155"
      },
      "source": [
        "!pip3 install torch"
      ],
      "execution_count": null,
      "outputs": [
        {
          "output_type": "stream",
          "text": [
            "Requirement already satisfied: torch in /usr/local/lib/python3.6/dist-packages (1.6.0+cu101)\n",
            "Requirement already satisfied: future in /usr/local/lib/python3.6/dist-packages (from torch) (0.16.0)\n",
            "Requirement already satisfied: numpy in /usr/local/lib/python3.6/dist-packages (from torch) (1.18.5)\n"
          ],
          "name": "stdout"
        }
      ]
    },
    {
      "cell_type": "code",
      "metadata": {
        "id": "8N2UDKxfGf8u",
        "colab_type": "code",
        "colab": {}
      },
      "source": [
        "import torch\n",
        "import numpy as np"
      ],
      "execution_count": 2,
      "outputs": []
    },
    {
      "cell_type": "code",
      "metadata": {
        "id": "An-8N76dG2hw",
        "colab_type": "code",
        "colab": {
          "base_uri": "https://localhost:8080/",
          "height": 35
        },
        "outputId": "1c5deb1b-6eb1-4f65-a7f3-09a55c1aab68"
      },
      "source": [
        "a = torch.tensor([1,2,3])\n",
        "print(a.dtype)"
      ],
      "execution_count": null,
      "outputs": [
        {
          "output_type": "stream",
          "text": [
            "torch.int64\n"
          ],
          "name": "stdout"
        }
      ]
    },
    {
      "cell_type": "code",
      "metadata": {
        "id": "W8QyyJ58GvIN",
        "colab_type": "code",
        "colab": {
          "base_uri": "https://localhost:8080/",
          "height": 35
        },
        "outputId": "05c58276-4a38-4bec-fe35-728aa955f0eb"
      },
      "source": [
        "print(type(a))"
      ],
      "execution_count": null,
      "outputs": [
        {
          "output_type": "stream",
          "text": [
            "<class 'torch.Tensor'>\n"
          ],
          "name": "stdout"
        }
      ]
    },
    {
      "cell_type": "code",
      "metadata": {
        "id": "7dulPslSGxgj",
        "colab_type": "code",
        "colab": {
          "base_uri": "https://localhost:8080/",
          "height": 52
        },
        "outputId": "1070ec9e-08d6-49d8-cbc5-46ec927eb04c"
      },
      "source": [
        "p = np.array([1,2,3,4,5])\n",
        "tensor_cnv = torch.from_numpy(p)\n",
        "print(tensor_cnv)\n",
        "tensor_cnv.type()\n",
        "\n",
        "#converting back to numpy\n",
        "print(tensor_cnv.numpy())"
      ],
      "execution_count": null,
      "outputs": [
        {
          "output_type": "stream",
          "text": [
            "tensor([1, 2, 3, 4, 5])\n",
            "[1 2 3 4 5]\n"
          ],
          "name": "stdout"
        }
      ]
    },
    {
      "cell_type": "code",
      "metadata": {
        "id": "zxlmUxBWH-31",
        "colab_type": "code",
        "colab": {
          "base_uri": "https://localhost:8080/",
          "height": 35
        },
        "outputId": "cd4a9fac-4429-45e1-dd9d-81c81cdbaf6b"
      },
      "source": [
        "torch.cuda.is_available()"
      ],
      "execution_count": null,
      "outputs": [
        {
          "output_type": "execute_result",
          "data": {
            "text/plain": [
              "False"
            ]
          },
          "metadata": {
            "tags": []
          },
          "execution_count": 14
        }
      ]
    },
    {
      "cell_type": "code",
      "metadata": {
        "id": "hRQc-AHXKjvJ",
        "colab_type": "code",
        "colab": {
          "base_uri": "https://localhost:8080/",
          "height": 225
        },
        "outputId": "b40b183f-f147-4530-d3f0-8bcdf7f9c828"
      },
      "source": [
        "#Slicing 3D Tensors\n",
        "x = torch.arange(27).view(3,3,3)\n",
        "print(x)\n",
        "print(x[1][1][1]) # 1st element, 1st row, 1st column"
      ],
      "execution_count": null,
      "outputs": [
        {
          "output_type": "stream",
          "text": [
            "tensor([[[ 0,  1,  2],\n",
            "         [ 3,  4,  5],\n",
            "         [ 6,  7,  8]],\n",
            "\n",
            "        [[ 9, 10, 11],\n",
            "         [12, 13, 14],\n",
            "         [15, 16, 17]],\n",
            "\n",
            "        [[18, 19, 20],\n",
            "         [21, 22, 23],\n",
            "         [24, 25, 26]]])\n",
            "tensor(13)\n"
          ],
          "name": "stdout"
        }
      ]
    },
    {
      "cell_type": "code",
      "metadata": {
        "id": "NbZEYKQMqiX7",
        "colab_type": "code",
        "colab": {
          "base_uri": "https://localhost:8080/",
          "height": 35
        },
        "outputId": "36a7072d-2e65-45bf-d5e6-1312739e1f62"
      },
      "source": [
        "#slice elements 15 to 17\n",
        "print(x[1][2])"
      ],
      "execution_count": null,
      "outputs": [
        {
          "output_type": "stream",
          "text": [
            "tensor([15, 16, 17])\n"
          ],
          "name": "stdout"
        }
      ]
    },
    {
      "cell_type": "code",
      "metadata": {
        "id": "QTYrZw9brvjf",
        "colab_type": "code",
        "colab": {
          "base_uri": "https://localhost:8080/",
          "height": 156
        },
        "outputId": "f8c8d1aa-1295-4e1a-e137-276f711ecb31"
      },
      "source": [
        "#Matrix Multiplication\n",
        "mat_a = torch.arange(1,7,1).view(2,3)\n",
        "mat_b = torch.arange(6,12,1).view(3,2)\n",
        "print(mat_a,mat_b)\n",
        "print(torch.matmul(mat_a,mat_b))\n",
        "\n",
        "#or###\n",
        "\n",
        "mat_a @ mat_b"
      ],
      "execution_count": 10,
      "outputs": [
        {
          "output_type": "stream",
          "text": [
            "tensor([[1, 2, 3],\n",
            "        [4, 5, 6]]) tensor([[ 6,  7],\n",
            "        [ 8,  9],\n",
            "        [10, 11]])\n",
            "tensor([[ 52,  58],\n",
            "        [124, 139]])\n"
          ],
          "name": "stdout"
        },
        {
          "output_type": "execute_result",
          "data": {
            "text/plain": [
              "tensor([[ 52,  58],\n",
              "        [124, 139]])"
            ]
          },
          "metadata": {
            "tags": []
          },
          "execution_count": 10
        }
      ]
    },
    {
      "cell_type": "code",
      "metadata": {
        "id": "hp8vb3p9tHLV",
        "colab_type": "code",
        "colab": {
          "base_uri": "https://localhost:8080/",
          "height": 52
        },
        "outputId": "73312342-62c1-4536-bdbd-adba5352d473"
      },
      "source": [
        " #Derivatives \n",
        " x = torch.tensor(2.0,requires_grad=True)\n",
        " y = 9*x**4 + 2*x**3 + 3*x**2 + 6*x + 1 #some arbitrary function\n",
        "\n",
        " y.backward()\n",
        " print(x.grad)\n",
        "\n",
        " #Partial Derivates\n",
        " x = torch.tensor(1.0,requires_grad=True)\n",
        " z = torch.tensor(2.0,requires_grad=True)\n",
        " y = x**2 + z**3\n",
        " y.backward()\n",
        " print(x.grad)\n"
      ],
      "execution_count": 13,
      "outputs": [
        {
          "output_type": "stream",
          "text": [
            "tensor(330.)\n",
            "tensor(2.)\n"
          ],
          "name": "stdout"
        }
      ]
    },
    {
      "cell_type": "code",
      "metadata": {
        "id": "6eImQngX-iL2",
        "colab_type": "code",
        "colab": {}
      },
      "source": [
        "#Linear Regression\n"
      ],
      "execution_count": null,
      "outputs": []
    }
  ]
}